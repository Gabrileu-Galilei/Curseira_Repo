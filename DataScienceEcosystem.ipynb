{
 "cells": [
  {
   "cell_type": "markdown",
   "id": "db153134",
   "metadata": {},
   "source": [
    "# Data Science Tools and Ecosystem"
   ]
  },
  {
   "cell_type": "markdown",
   "id": "f382538e",
   "metadata": {},
   "source": [
    "In this notebook, Data Science tools and Ecosystem are summarized. It's also a jupyter notebook creation test. "
   ]
  },
  {
   "cell_type": "markdown",
   "id": "356877d8",
   "metadata": {},
   "source": [
    "**Objectives:**\n",
    "\n",
    "* List common languages for Data Science.\n",
    "* List some of the most used libraries for Data sciense Purpose.\n",
    "* Pratice a bit of python coding. \n",
    "* Pratice some of the Markdown funtionalities.\n"
   ]
  },
  {
   "cell_type": "markdown",
   "id": "f02b344c",
   "metadata": {},
   "source": [
    "In the Data Science Field those 4 languages are commonly used:\n",
    "\n",
    "1. 🐍 Python\n",
    "2. ☕ Java\n",
    "3. 🐘 SQL\n",
    "4. 📊 R"
   ]
  },
  {
   "cell_type": "markdown",
   "id": "b2bd0bb7",
   "metadata": {},
   "source": [
    "For Python and R we have some strong libraries candidates for Data Science use:\n",
    "\n",
    "1. 🐍: Seaborn, Pytorch, TensorFlow, Pandas.\n",
    "2. 📊: Caret, ggplot2, dplyr, shiny."
   ]
  },
  {
   "cell_type": "markdown",
   "id": "08379980",
   "metadata": {},
   "source": [
    "Furthermore we can use some development environment open source tools in data science that may support those libraries too:\n",
    "|Data Science Tools|\n",
    "|------------------|\n",
    "|VS Code|\n",
    "|JupyterLab|\n",
    "|RStudio|\n",
    "|Spyder|"
   ]
  },
  {
   "cell_type": "markdown",
   "id": "dbc2dc85",
   "metadata": {},
   "source": [
    "### Below are a few examples of evaluating arithmetic expressions in python"
   ]
  },
  {
   "cell_type": "code",
   "execution_count": 1,
   "id": "3b4fe1fc",
   "metadata": {},
   "outputs": [
    {
     "data": {
      "text/plain": [
       "17"
      ]
     },
     "execution_count": 1,
     "metadata": {},
     "output_type": "execute_result"
    }
   ],
   "source": [
    "# A simple expression to see the python syntax over multiplication and addition of integers\n",
    "(3*4)+5"
   ]
  },
  {
   "cell_type": "code",
   "execution_count": 2,
   "id": "9ab8bd84",
   "metadata": {},
   "outputs": [
    {
     "data": {
      "text/plain": [
       "3.3333333333333335"
      ]
     },
     "execution_count": 2,
     "metadata": {},
     "output_type": "execute_result"
    }
   ],
   "source": [
    "# Here we convert 200 minutes to hours by dividing by 60\n",
    "200/60"
   ]
  },
  {
   "cell_type": "markdown",
   "id": "a817070d",
   "metadata": {},
   "source": [
    "## Author\n",
    "\n",
    "Gabriel Barbosa"
   ]
  }
 ],
 "metadata": {
  "kernelspec": {
   "display_name": "base",
   "language": "python",
   "name": "python3"
  },
  "language_info": {
   "codemirror_mode": {
    "name": "ipython",
    "version": 3
   },
   "file_extension": ".py",
   "mimetype": "text/x-python",
   "name": "python",
   "nbconvert_exporter": "python",
   "pygments_lexer": "ipython3",
   "version": "3.12.7"
  }
 },
 "nbformat": 4,
 "nbformat_minor": 5
}
